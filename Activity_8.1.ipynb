{
 "cells": [
  {
   "cell_type": "raw",
   "metadata": {},
   "source": [
    "---\n",
    "self-contained: True\n",
    "execute: \n",
    "  enabled: true\n",
    "title: Activity 8.1\n",
    "author: Tuukka Jaakkola\n",
    "date: '11/17/2023'\n",
    "output: html\n",
    "theme: darkly\n",
    "---"
   ]
  },
  {
   "cell_type": "code",
   "execution_count": 9,
   "metadata": {},
   "outputs": [],
   "source": [
    "import pandas as pd\n",
    "import numpy as np\n",
    "\n",
    "from sklearn.pipeline import Pipeline\n",
    "from sklearn.neighbors import KNeighborsRegressor\n",
    "from sklearn.tree import DecisionTreeRegressor\n",
    "from palmerpenguins import load_penguins\n",
    "\n",
    "from sklearn.pipeline import Pipeline\n",
    "from sklearn.compose import make_column_selector, ColumnTransformer\n",
    "from sklearn.preprocessing import StandardScaler, OneHotEncoder, PolynomialFeatures\n",
    "from sklearn.linear_model import LinearRegression, Ridge, Lasso, ElasticNet\n",
    "from sklearn.model_selection import train_test_split, cross_val_score,GridSearchCV\n",
    "from sklearn.metrics import mean_squared_error"
   ]
  },
  {
   "cell_type": "markdown",
   "metadata": {
    "id": "VeAOZxOcM0Vi"
   },
   "source": [
    "# Palmer Penguins Modeling\n",
    "\n",
    "Import the Palmer Penguins dataset and print out the first few rows.\n",
    "\n",
    "Suppose we want to predict `bill_depth_mm` using the other variables in the dataset.\n",
    "\n",
    "**Dummify** all variables that require this."
   ]
  },
  {
   "cell_type": "code",
   "execution_count": 10,
   "metadata": {
    "id": "Bj_0VvPJMWyp"
   },
   "outputs": [],
   "source": [
    "penguin = load_penguins()\n",
    "\n",
    "penguin = penguin.dropna()\n",
    "\n",
    "X = penguin.drop(['bill_depth_mm'], axis = 1)\n",
    "y = penguin['bill_depth_mm']\n",
    "\n",
    "X_train, X_test, y_train, y_test = train_test_split(X,y)\n",
    "\n",
    "ct = ColumnTransformer(\n",
    "  [\n",
    "    (\"dummify\", \n",
    "    OneHotEncoder(sparse_output = False, handle_unknown='ignore'),\n",
    "    make_column_selector(dtype_include=object)),\n",
    "    (\"standardize\", \n",
    "    StandardScaler(), \n",
    "    make_column_selector(dtype_include=np.number))\n",
    "  ],\n",
    "  remainder = \"passthrough\"\n",
    ").set_output(transform = \"pandas\")\n",
    "\n",
    "X_train = ct.fit_transform(X_train)\n",
    "X_test = ct.fit_transform(X_test)"
   ]
  },
  {
   "cell_type": "markdown",
   "metadata": {
    "id": "CXmaqajAchqz"
   },
   "source": [
    "Let's use the other variables to predict `bill_depth_mm`. Prepare your data and fit the following models on the entire dataset:\n",
    "\n",
    "* Your best multiple linear regression model from before\n",
    "* Two kNN models (for different values of K)\n",
    "* A decision tree model\n",
    "\n",
    "Create a plot like the right plot of Fig 1. in our `Model Validation` chapter with the training and test error plotted for each of your four models.\n",
    "\n",
    "Which of your models was best?"
   ]
  },
  {
   "cell_type": "code",
   "execution_count": 16,
   "metadata": {
    "id": "R3MYBNQmcyld"
   },
   "outputs": [
    {
     "name": "stdout",
     "output_type": "stream",
     "text": [
      "0.6057541300680851\n",
      "0.6076649954171165\n"
     ]
    }
   ],
   "source": [
    "en = ElasticNet(alpha = 0.001, l1_ratio = 0.5)\n",
    "\n",
    "fitted = en.fit(X_train,y_train)\n",
    "\n",
    "#Test Error\n",
    "predict1 = fitted.predict(X_test)\n",
    "\n",
    "MSE1 = mean_squared_error(y_test, predict1)\n",
    "\n",
    "print(MSE1)\n",
    "\n",
    "#Training Error\n",
    "predict11 = fitted.predict(X_train)\n",
    "\n",
    "MSE11 = mean_squared_error(y_train, predict11)\n",
    "\n",
    "print(MSE11)"
   ]
  },
  {
   "cell_type": "code",
   "execution_count": 31,
   "metadata": {},
   "outputs": [
    {
     "name": "stdout",
     "output_type": "stream",
     "text": [
      "0.6870899470899469\n",
      "0.3978045515394912\n"
     ]
    }
   ],
   "source": [
    "knn = KNeighborsRegressor(n_neighbors=3)\n",
    "\n",
    "fitted = knn.fit(X_train,y_train)\n",
    "\n",
    "#Test Error\n",
    "predict211 = fitted.predict(X_test)\n",
    "\n",
    "MSE211 = mean_squared_error(y_test, predict211)\n",
    "\n",
    "print(MSE211)\n",
    "\n",
    "#Training Error\n",
    "predict212 = fitted.predict(X_train)\n",
    "\n",
    "MSE212 = mean_squared_error(y_train, predict212)\n",
    "\n",
    "print(MSE212)"
   ]
  },
  {
   "cell_type": "code",
   "execution_count": 32,
   "metadata": {},
   "outputs": [
    {
     "name": "stdout",
     "output_type": "stream",
     "text": [
      "0.6308796296296291\n",
      "0.5071117804551539\n"
     ]
    }
   ],
   "source": [
    "knn = KNeighborsRegressor(n_neighbors=6)\n",
    "\n",
    "fitted = knn.fit(X_train,y_train)\n",
    "\n",
    "#Test Error\n",
    "predict221 = fitted.predict(X_test)\n",
    "\n",
    "MSE221 = mean_squared_error(y_test, predict221)\n",
    "\n",
    "print(MSE221)\n",
    "\n",
    "#Training Error\n",
    "predict222 = fitted.predict(X_train)\n",
    "\n",
    "MSE222 = mean_squared_error(y_train, predict222)\n",
    "\n",
    "print(MSE222)"
   ]
  },
  {
   "cell_type": "code",
   "execution_count": 33,
   "metadata": {},
   "outputs": [
    {
     "name": "stdout",
     "output_type": "stream",
     "text": [
      "0.6253645833333337\n",
      "0.5563755020080322\n"
     ]
    }
   ],
   "source": [
    "knn = KNeighborsRegressor(n_neighbors=12)\n",
    "\n",
    "fitted = knn.fit(X_train,y_train)\n",
    "\n",
    "#Test Error\n",
    "predict231 = fitted.predict(X_test)\n",
    "\n",
    "MSE231 = mean_squared_error(y_test, predict231)\n",
    "\n",
    "print(MSE231)\n",
    "\n",
    "#Training Error\n",
    "predict232 = fitted.predict(X_train)\n",
    "\n",
    "MSE232 = mean_squared_error(y_train, predict232)\n",
    "\n",
    "print(MSE232)"
   ]
  },
  {
   "cell_type": "code",
   "execution_count": 34,
   "metadata": {},
   "outputs": [
    {
     "name": "stdout",
     "output_type": "stream",
     "text": [
      "0.6848509837962963\n",
      "0.618430946006247\n"
     ]
    }
   ],
   "source": [
    "knn = KNeighborsRegressor(n_neighbors=24)\n",
    "\n",
    "fitted = knn.fit(X_train,y_train)\n",
    "\n",
    "#Test Error\n",
    "predict241 = fitted.predict(X_test)\n",
    "\n",
    "MSE241 = mean_squared_error(y_test, predict241)\n",
    "\n",
    "print(MSE241)\n",
    "\n",
    "#Training Error\n",
    "predict242 = fitted.predict(X_train)\n",
    "\n",
    "MSE242 = mean_squared_error(y_train, predict242)\n",
    "\n",
    "print(MSE242)"
   ]
  },
  {
   "cell_type": "code",
   "execution_count": 35,
   "metadata": {},
   "outputs": [
    {
     "name": "stdout",
     "output_type": "stream",
     "text": [
      "1.2948157592904441\n",
      "1.2377180753666006\n"
     ]
    }
   ],
   "source": [
    "dt = DecisionTreeRegressor(max_depth = 1)\n",
    "\n",
    "fitted = dt.fit(X_train,y_train)\n",
    "\n",
    "#Test Error\n",
    "predict = fitted.predict(X_test)\n",
    "\n",
    "MSE311 = mean_squared_error(y_test, predict)\n",
    "\n",
    "print(MSE311)\n",
    "\n",
    "#Training Error\n",
    "predict = fitted.predict(X_train)\n",
    "\n",
    "MSE312 = mean_squared_error(y_train, predict)\n",
    "\n",
    "print(MSE312)"
   ]
  },
  {
   "cell_type": "code",
   "execution_count": 36,
   "metadata": {},
   "outputs": [
    {
     "name": "stdout",
     "output_type": "stream",
     "text": [
      "0.6945831107574956\n",
      "0.683565322787794\n"
     ]
    }
   ],
   "source": [
    "dt = DecisionTreeRegressor(max_depth = 2)\n",
    "\n",
    "fitted = dt.fit(X_train,y_train)\n",
    "\n",
    "#Test Error\n",
    "predict = fitted.predict(X_test)\n",
    "\n",
    "MSE321 = mean_squared_error(y_test, predict)\n",
    "\n",
    "print(MSE321)\n",
    "\n",
    "#Training Error\n",
    "predict = fitted.predict(X_train)\n",
    "\n",
    "MSE322 = mean_squared_error(y_train, predict)\n",
    "\n",
    "print(MSE322)"
   ]
  },
  {
   "cell_type": "code",
   "execution_count": 37,
   "metadata": {},
   "outputs": [
    {
     "name": "stdout",
     "output_type": "stream",
     "text": [
      "0.6377138036437409\n",
      "0.5001126715070753\n"
     ]
    }
   ],
   "source": [
    "dt = DecisionTreeRegressor(max_depth = 4)\n",
    "\n",
    "fitted = dt.fit(X_train,y_train)\n",
    "\n",
    "#Test Error\n",
    "predict = fitted.predict(X_test)\n",
    "\n",
    "MSE331 = mean_squared_error(y_test, predict)\n",
    "\n",
    "print(MSE331)\n",
    "\n",
    "#Training Error\n",
    "predict = fitted.predict(X_train)\n",
    "\n",
    "MSE332 = mean_squared_error(y_train, predict)\n",
    "\n",
    "print(MSE332)"
   ]
  },
  {
   "cell_type": "code",
   "execution_count": 38,
   "metadata": {},
   "outputs": [
    {
     "name": "stdout",
     "output_type": "stream",
     "text": [
      "0.7549861052101525\n",
      "0.16271518327019283\n"
     ]
    }
   ],
   "source": [
    "dt = DecisionTreeRegressor(max_depth = 8)\n",
    "\n",
    "fitted = dt.fit(X_train,y_train)\n",
    "\n",
    "#Test Error\n",
    "predict = fitted.predict(X_test)\n",
    "\n",
    "MSE341 = mean_squared_error(y_test, predict)\n",
    "\n",
    "print(MSE341)\n",
    "\n",
    "#Training Error\n",
    "predict = fitted.predict(X_train)\n",
    "\n",
    "MSE342 = mean_squared_error(y_train, predict)\n",
    "\n",
    "print(MSE342)"
   ]
  },
  {
   "cell_type": "code",
   "execution_count": null,
   "metadata": {},
   "outputs": [],
   "source": []
  }
 ],
 "metadata": {
  "colab": {
   "provenance": []
  },
  "kernelspec": {
   "display_name": "Python 3 (ipykernel)",
   "language": "python",
   "name": "python3"
  },
  "language_info": {
   "codemirror_mode": {
    "name": "ipython",
    "version": 3
   },
   "file_extension": ".py",
   "mimetype": "text/x-python",
   "name": "python",
   "nbconvert_exporter": "python",
   "pygments_lexer": "ipython3",
   "version": "3.11.4"
  }
 },
 "nbformat": 4,
 "nbformat_minor": 1
}
